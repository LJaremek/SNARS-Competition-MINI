{
 "cells": [
  {
   "cell_type": "code",
   "execution_count": 1,
   "metadata": {},
   "outputs": [],
   "source": [
    "import time\n",
    "import os\n",
    "\n",
    "from sklearn.cluster import SpectralClustering\n",
    "import networkx as nx\n",
    "import pandas as pd\n",
    "import numpy as np\n"
   ]
  },
  {
   "cell_type": "code",
   "execution_count": 2,
   "metadata": {},
   "outputs": [],
   "source": [
    "def process_file(file_path: str, num_clusters: int | None = None) -> str:\n",
    "    try:\n",
    "        adj_matrix = np.loadtxt(file_path, delimiter=\",\", dtype=int)\n",
    "        if adj_matrix.shape[0] != adj_matrix.shape[1]:\n",
    "            raise ValueError(\"Input matrix must be square.\")\n",
    "    except Exception as e:\n",
    "        raise ValueError(f\"Error reading or validating file {file_path}: {e}\")\n",
    "    \n",
    "    G = nx.from_numpy_array(adj_matrix)\n",
    "    \n",
    "    if num_clusters is None:\n",
    "        laplacian_matrix = nx.normalized_laplacian_matrix(G).toarray()\n",
    "        eigenvalues = np.linalg.eigvalsh(laplacian_matrix)\n",
    "        eigengap = np.diff(eigenvalues)\n",
    "        num_clusters = np.argmax(eigengap) + 1  # Heurystyka eigengap\n",
    "    \n",
    "    clustering = SpectralClustering(\n",
    "        n_clusters=num_clusters, affinity=\"precomputed\", random_state=42\n",
    "        )\n",
    "\n",
    "    labels = clustering.fit_predict(adj_matrix)\n",
    "    \n",
    "    results = [\n",
    "        (node + 1, cluster + 1)\n",
    "        for node, cluster in enumerate(labels)\n",
    "        ]\n",
    "\n",
    "    output_file = (\n",
    "        \"results/\" +\n",
    "        os.path.splitext(os.path.basename(file_path))[0] +\n",
    "        \"_results.csv\"\n",
    "    )\n",
    "\n",
    "    df_results = pd.DataFrame(results, columns=[\"Vertex\", \"Cluster\"])\n",
    "    df_results.to_csv(output_file, index=False, header=False)\n",
    "\n",
    "    return output_file\n"
   ]
  },
  {
   "cell_type": "code",
   "execution_count": 3,
   "metadata": {},
   "outputs": [],
   "source": [
    "os.makedirs(\"results\", exist_ok=True)\n",
    "\n",
    "files = [\n",
    "    \"data/D1-K=2.csv\", \"data/D1-UNC.csv\",\n",
    "    \"data/D2-K=7.csv\", \"data/D2-UNC.csv\",\n",
    "    \"data/D3-K=12.csv\", \"data/D3-UNC.csv\"\n",
    "]\n",
    "\n",
    "description_data = []\n",
    "for file_path in files:\n",
    "    start_time = time.time()\n",
    "    try:\n",
    "        if \"UNC\" in file_path:\n",
    "            num_clusters = None\n",
    "        else:    \n",
    "            num_clusters = int(file_path.split(\"K=\")[-1].split(\".\")[0])\n",
    "\n",
    "        output_file = process_file(file_path, num_clusters)\n",
    "        execution_time = time.time() - start_time\n",
    "        description_data.append((file_path, output_file, execution_time))\n",
    "    except Exception as e:\n",
    "        print(f\"Error processing {file_path}: {e}\")\n"
   ]
  },
  {
   "cell_type": "code",
   "execution_count": 4,
   "metadata": {},
   "outputs": [],
   "source": [
    "with open(\"results/description.txt\", \"w\") as desc_file:\n",
    "    desc_file.write(\"Patrycja Wysocka, Lukasz Jaremek\\n\")\n",
    "    desc_file.write(\"https://github.com/LJaremek/SNARS-Competition-MINI\\n\")\n",
    "    for file_path, output_file, exec_time in description_data:\n",
    "        desc_file.write(f\"{file_path}, {output_file}, {exec_time:.2f}s\\n\")\n"
   ]
  }
 ],
 "metadata": {
  "kernelspec": {
   "display_name": "base",
   "language": "python",
   "name": "python3"
  },
  "language_info": {
   "codemirror_mode": {
    "name": "ipython",
    "version": 3
   },
   "file_extension": ".py",
   "mimetype": "text/x-python",
   "name": "python",
   "nbconvert_exporter": "python",
   "pygments_lexer": "ipython3",
   "version": "3.12.8"
  }
 },
 "nbformat": 4,
 "nbformat_minor": 2
}
